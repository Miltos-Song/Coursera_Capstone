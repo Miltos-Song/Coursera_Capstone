{
    "cells": [
        {
            "cell_type": "markdown",
            "metadata": {
                "collapsed": true
            },
            "source": "# The Battle of Neighborhoods - Report"
        },
        {
            "cell_type": "markdown",
            "metadata": {},
            "source": "## 1. Introduction and Background"
        },
        {
            "cell_type": "markdown",
            "metadata": {},
            "source": "The main objective of this project is to propose a choice of the location to open a new local cafe in Wellington, the capital of New Zealand. \n\nWellingtonians love coffee and the city has a relatively high number of cafe shops per capita. Even so, there's plenty of customers needs to be satisfied.\nRead this if you're interested in coffee culture in Wellington: https://www.newzealand.com/in/feature/wellington-coffee-capital/#js-mosaic-item-id--3\n\nNow, the committee of Cyber Community Club in Wellington (I made this up, it's not real...) has decided to use their club membership fees to open a cafe to better serve their members in a self-owned environment (their members do enjoy coffee very much) and see how would the cafe bring some extra revenue for the club. The committee has the enough money to start this new business, the only concern to them is finding a good location which covers a large amount of population with less competition (less other cafes). The location could be identified as the suburb in Wellington, as the suburb here is quite small."
        },
        {
            "cell_type": "markdown",
            "metadata": {},
            "source": "## 2. Data and Methodology"
        },
        {
            "cell_type": "markdown",
            "metadata": {},
            "source": "The data I'll use to address this issue is mainly consists of two data source:\n1. Statistic data of each suburb in Wellington, from wellington city council specifically popluation (e.g. https://forecast.idnz.co.nz/wellington/population-summary)\n2. Geopy data of coordinates of each suburb in Wellington, to be posted to Foursquare to get the venues\n3. Foursquare venue data, to extract the venue count and category\n\n\nRegarding methodology, below is a brief introducation about the steps that I'm going to take to fulfil the project purpose\n1. Get a table of each suburbs and their popluation, better with their population growth as well, data preprocessing work is needed\n2. Insert the coordinates of each surburb and use those to get venues near the suburb\n3. Cluster them into groups using k-means into explainable clusters\n4. Pick the suburb with the least competetion rival"
        },
        {
            "cell_type": "markdown",
            "metadata": {},
            "source": "## 3. Results"
        },
        {
            "cell_type": "markdown",
            "metadata": {},
            "source": ""
        },
        {
            "cell_type": "markdown",
            "metadata": {},
            "source": "## 4. Discussion"
        },
        {
            "cell_type": "markdown",
            "metadata": {},
            "source": ""
        },
        {
            "cell_type": "markdown",
            "metadata": {},
            "source": "## 5. Conclusion"
        },
        {
            "cell_type": "markdown",
            "metadata": {},
            "source": ""
        },
        {
            "cell_type": "markdown",
            "metadata": {},
            "source": ""
        }
    ],
    "metadata": {
        "kernelspec": {
            "display_name": "Python 3.6",
            "language": "python",
            "name": "python3"
        },
        "language_info": {
            "codemirror_mode": {
                "name": "ipython",
                "version": 3
            },
            "file_extension": ".py",
            "mimetype": "text/x-python",
            "name": "python",
            "nbconvert_exporter": "python",
            "pygments_lexer": "ipython3",
            "version": "3.6.9"
        }
    },
    "nbformat": 4,
    "nbformat_minor": 1
}